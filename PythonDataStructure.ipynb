{
 "cells": [
  {
   "cell_type": "markdown",
   "id": "60b5a19a",
   "metadata": {},
   "source": [
    "# Data Types and Structures"
   ]
  },
  {
   "cell_type": "markdown",
   "id": "67a8378e",
   "metadata": {},
   "source": [
    "## Assignment Questions"
   ]
  },
  {
   "cell_type": "markdown",
   "id": "691500d8",
   "metadata": {},
   "source": [
    "#### 1. What are data structures, and why are they important?"
   ]
  },
  {
   "cell_type": "markdown",
   "id": "29ab184b",
   "metadata": {},
   "source": [
    "- > A data structure is a way of organizing, storing and managing data so it can be used efficiently. Data structures is of two types - primitive and non primitive. Primitive data structures are int, float, char, boolean etc. Non-primitive data structures are arrays, lists, tuples, stacks, queues, linked lists, trees, graphs, hash tables, etc.\n",
    "- >  Data Structures are important because they help organize large amounts of data in a structured way, make searching, inserting, updating, and deleting data faster and saves space by storing data effectively."
   ]
  },
  {
   "cell_type": "markdown",
   "id": "d812f484",
   "metadata": {},
   "source": [
    "2.  Explain the difference between mutable and immutable data types with examples.\n",
    "- > Mutable Data Types are objects that can be changed after creation.User can modify, add, or remove elements without creating a new object. Example - list, dictionary etc. \n",
    "- > Immutable Data Types are Objects that cannot be changed after creation. Any modification creates a new object in memory. Examples: tuple, string etc. "
   ]
  },
  {
   "cell_type": "markdown",
   "id": "829d64bb",
   "metadata": {},
   "source": [
    "3. What are the main differences between lists and tuples in Python?\n",
    "- > List are mutable. We can change, add, or remove elements. Tuple is immutable, once created, elements cannot be changed.List is defined using square brackets [] . Tuple are defined using parentheses ()."
   ]
  },
  {
   "cell_type": "markdown",
   "id": "ce77148d",
   "metadata": {},
   "source": [
    "4.  Describe how dictionaries store data.\n",
    "- > A dictionary in Python is a built in data structure that stores data in key–value pairs. The key represent index. It must be unique, since it is the memory location. The data stored inside it is value. The value can be anything. Dictionary is mutable but the key is immutable."
   ]
  },
  {
   "cell_type": "markdown",
   "id": "3bb2bc0e",
   "metadata": {},
   "source": [
    "5. Why might you use a set instead of a list in Python?\n",
    "- > If user needs uniqueness of elements then set is preffered. Because set stores unique elements but list can store duplicate elements. When order doesnot matter, we can use set, since set is unordered but list is ordered. Also, accessing element is faster in set then list. Because list is ordered, it checks element index wise but set doesnot check index wise because it is unordered, only checks whether element is present or not at O(1) time."
   ]
  },
  {
   "cell_type": "markdown",
   "id": "4419a313",
   "metadata": {},
   "source": [
    "6. What is a string in Python, and how is it different from a list?\n",
    "- > A string in Python is a sequence of characters enclosed in single quotes, or double or triple. It is used to represent text.\n",
    "- > A list is mutable but a string is immutable in python. List can store any data type but string can store only characters (letters, digits, symbols, spaces)."
   ]
  },
  {
   "cell_type": "markdown",
   "id": "745d6f1d",
   "metadata": {},
   "source": [
    "7. How do tuples ensure data integrity in Python?\n",
    "- > The most important feature of tuples is that they are immutable. Once a tuple is created, its elements cannot be changed, added, or removed. This prevents accidental modifications to data. "
   ]
  },
  {
   "cell_type": "markdown",
   "id": "c5f87de7",
   "metadata": {},
   "source": [
    "8. What is a hash table, and how does it relate to dictionaries in Python?\n",
    "- > A hash table is a data structure that stores data in key–value pairs and provides very fast access to values using keys. It uses a hash function to convert a key into a numerical value (called a hash code). This hash code determines where the key–value pair will be stored in memory.\n",
    "- > In Python, a dictionary is implemented internally using a hash table. Keys must be immutable. Immutable keys ensure the hash value doesn’t change, keeping data consistent. Values can be of any type."
   ]
  },
  {
   "cell_type": "markdown",
   "id": "b80def0b",
   "metadata": {},
   "source": [
    "9. Can lists contain different data types in Python?\n",
    "- > In Python, lists can contain different data types within the same list. This is because Python is a dynamically typed language, it doesn’t require all elements of a list to be of the same type. Each element simply points to an object in memory, and those objects can be of any type."
   ]
  },
  {
   "cell_type": "markdown",
   "id": "7c4d6fe5",
   "metadata": {},
   "source": [
    "10.  Explain why strings are immutable in Python.\n",
    "- > Strings in Python are immutable, meaning once a string is created, its contents cannot be changed. This design choice is made for several important reasons. Firstly, immutability allows Python to optimize memory usage through string interning, where commonly used strings are stored in a shared memory pool, so multiple variables can safely reference the same string object. Secondly, strings are frequently used as keys in dictionaries and elements in sets, and immutability ensures that their hash values remain constant, maintaining the integrity of these data structures."
   ]
  },
  {
   "cell_type": "markdown",
   "id": "791bb003",
   "metadata": {},
   "source": [
    "11. What advantages do dictionaries offer over lists for certain tasks?\n",
    "- > Dictionary store data as key–value pairs rather than as an ordered sequence of elements. This allows for fast and direct access to values using keys, typically in constant time, whereas accessing an element in a list may require searching through multiple items, which can be slower for large datasets. Dictionaries also enforce uniqueness of keys, making them ideal for situations where we need to associate a specific identifier with a value, such as storing user IDs with corresponding information or mapping configuration settings."
   ]
  },
  {
   "cell_type": "markdown",
   "id": "62461f9c",
   "metadata": {},
   "source": [
    "12. Describe a scenario where using a tuple would be preferable over a list.\n",
    "- > When user need to store a collection of values that should never change throughout the program. For example, consider representing the latitude and longitude coordinates of a city. These values are fixed for each city and should not be accidentally modified, so using a tuple ensures immutability and protects data integrity."
   ]
  },
  {
   "cell_type": "markdown",
   "id": "f7b8b4ea",
   "metadata": {},
   "source": [
    "13.  How do sets handle duplicate values in Python?\n",
    "- > In Python, sets automatically eliminate duplicate values, ensuring that each element in the set is unique. When user try to add a value to a set that already exists, Python simply ignores it and does not raise an error."
   ]
  },
  {
   "cell_type": "markdown",
   "id": "bb420af3",
   "metadata": {},
   "source": [
    "14. How does the “in” keyword work differently for lists and dictionaries?\n",
    "- > In list, 'in' checks whether a value exists anywhere in the list by scanning each element sequentially, which means the operation has a time complexity of O(n) for a list of length n. In dictionary, the 'in' keyword checks for the presence of a key, not a value."
   ]
  },
  {
   "cell_type": "markdown",
   "id": "7466b73e",
   "metadata": {},
   "source": [
    "15. Can you modify the elements of a tuple? Explain why or why not.\n",
    "- > No, you cannot modify the elements of a tuple in Python because tuples are immutable. Immutability means that once a tuple is created, its contents cannot be changed, added to, or removed. This design ensures that the data stored in a tuple remains constant and protected throughout the program."
   ]
  },
  {
   "cell_type": "markdown",
   "id": "76431e7c",
   "metadata": {},
   "source": [
    "16. What is a nested dictionary, and give an example of its use case.\n",
    "- > A nested dictionary in Python is a dictionary that contains another dictionary as its values, allowing you to represent complex, hierarchical data structures. This structure is useful when you need to store related information in multiple levels, such as records with multiple attributes for each key. "
   ]
  },
  {
   "cell_type": "markdown",
   "id": "3bf3686b",
   "metadata": {},
   "source": [
    "17. Describe the time complexity of accessing elements in a dictionary.\n",
    "- > In Python, dictionaries are implemented using hash tables, which allows for very fast access to elements. When user access a value using a key, Python first computes the hash of the key and uses it to determine the location of the value in memory. This means that, on average, accessing an element by key has a time complexity of O(1), also called constant time, because the operation does not depend on the number of elements in the dictionary."
   ]
  },
  {
   "cell_type": "markdown",
   "id": "c48d99c8",
   "metadata": {},
   "source": [
    "18.  In what situations are lists preferred over dictionaries.\n",
    "- > Lists are preferred over dictionaries in situations where the order of elements matters, where you need to store a simple sequence of items, or where the elements do not have unique identifiers. Since lists maintain the order of insertion and allow access by index, they are ideal for tasks like storing a series of numbers, words, or objects when you want to iterate over them in order or access elements by position."
   ]
  },
  {
   "cell_type": "markdown",
   "id": "0e835c4c",
   "metadata": {},
   "source": [
    "19. Why are dictionaries considered unordered, and how does that affect data retrieval?\n",
    "- > Dictionaries in Python are considered unordered because, historically, they did not maintain the order in which key–value pairs were inserted. This means that when you iterate over a dictionary, there was no guarantee that the elements would appear in the order they were added.\n",
    "- > The unordered nature affects data retrieval, user cannot rely on the position of elements like with lists, instead, user always access values explicitly using their keys. This ensures that lookups, insertions, and deletions are efficient and fast, typically in constant time O(1)."
   ]
  },
  {
   "cell_type": "markdown",
   "id": "2cb9177b",
   "metadata": {},
   "source": [
    "20.  Explain the difference between a list and a dictionary in terms of data retrieval.\n",
    "- > The difference between a list and a dictionary in terms of data retrieval lies in how elements are accessed and the efficiency of that access. In a list, elements are retrieved by their index, which means user must know the position of the element in the sequence, and searching for a specific value without knowing its index requires scanning the list, resulting in a time complexity of O(n). In contrast, a dictionary stores data as key–value pairs and allows retrieval using a unique key. Because dictionaries are implemented using hash tables, accessing a value via its key is usually done in constant time, O(1), regardless of the number of items. This makes dictionaries far more efficient than lists for tasks that require frequent lookups based on identifiers rather than positions."
   ]
  },
  {
   "cell_type": "markdown",
   "id": "8c6d721e",
   "metadata": {},
   "source": [
    "# Practical Questions"
   ]
  },
  {
   "cell_type": "code",
   "execution_count": 1,
   "id": "b8c72d22",
   "metadata": {},
   "outputs": [
    {
     "name": "stdout",
     "output_type": "stream",
     "text": [
      "Rohit Saha\n"
     ]
    }
   ],
   "source": [
    "# 1. Write a code to create a string with your name and print it.\n",
    "my_name = \"Rohit Saha\"\n",
    "print(my_name)"
   ]
  },
  {
   "cell_type": "code",
   "execution_count": 2,
   "id": "977e7f06",
   "metadata": {},
   "outputs": [
    {
     "name": "stdout",
     "output_type": "stream",
     "text": [
      "The length of the string is: 11\n"
     ]
    }
   ],
   "source": [
    "# 2. Write a code to find the length of the string \"Hello World\"\n",
    "text = \"Hello World\"\n",
    "length = len(text)\n",
    "print(\"The length of the string is:\", length)"
   ]
  },
  {
   "cell_type": "code",
   "execution_count": 3,
   "id": "2f8e1db7",
   "metadata": {},
   "outputs": [
    {
     "name": "stdout",
     "output_type": "stream",
     "text": [
      "The first 3 characters are: Pyt\n"
     ]
    }
   ],
   "source": [
    "# 3. Write a code to slice the first 3 characters from the string \"Python Programming\".\n",
    "text = \"Python Programming\"\n",
    "first_three = text[:3]\n",
    "print(\"The first 3 characters are:\", first_three)"
   ]
  },
  {
   "cell_type": "code",
   "execution_count": 4,
   "id": "2e93a643",
   "metadata": {},
   "outputs": [
    {
     "name": "stdout",
     "output_type": "stream",
     "text": [
      "Uppercase string: HELLO\n"
     ]
    }
   ],
   "source": [
    "# 4. Write a code to convert the string \"hello\" to uppercase.\n",
    "text = \"hello\"\n",
    "upper_text = text.upper()\n",
    "print(\"Uppercase string:\", upper_text)"
   ]
  },
  {
   "cell_type": "code",
   "execution_count": 5,
   "id": "1acfdc7d",
   "metadata": {},
   "outputs": [
    {
     "name": "stdout",
     "output_type": "stream",
     "text": [
      "I like orange\n"
     ]
    }
   ],
   "source": [
    "# 5. Write a code to replace the word \"apple\" with \"orange\" in the string \"I like apple\".\n",
    "text = \"I like apple\"\n",
    "new_text = text.replace(\"apple\", \"orange\")\n",
    "print(new_text)"
   ]
  },
  {
   "cell_type": "code",
   "execution_count": 6,
   "id": "80b1a37e",
   "metadata": {},
   "outputs": [
    {
     "name": "stdout",
     "output_type": "stream",
     "text": [
      "The list is: [1, 2, 3, 4, 5]\n"
     ]
    }
   ],
   "source": [
    "# 6. Write a code to create a list with numbers 1 to 5 and print it.\n",
    "numbers = [1, 2, 3, 4, 5]\n",
    "print(\"The list is:\", numbers)"
   ]
  },
  {
   "cell_type": "code",
   "execution_count": 7,
   "id": "5354b563",
   "metadata": {},
   "outputs": [
    {
     "name": "stdout",
     "output_type": "stream",
     "text": [
      "Updated list: [1, 2, 3, 4, 10]\n"
     ]
    }
   ],
   "source": [
    "# 7. Write a code to append the number 10 to the list [1, 2, 3, 4].\n",
    "numbers = [1, 2, 3, 4]\n",
    "numbers.append(10)\n",
    "print(\"Updated list:\", numbers)"
   ]
  },
  {
   "cell_type": "code",
   "execution_count": 8,
   "id": "a3ff2bf4",
   "metadata": {},
   "outputs": [
    {
     "name": "stdout",
     "output_type": "stream",
     "text": [
      "Updated list: [1, 2, 4, 5]\n"
     ]
    }
   ],
   "source": [
    "# 8. Write a code to remove the number 3 from the list [1, 2, 3, 4, 5].\n",
    "numbers = [1, 2, 3, 4, 5]\n",
    "numbers.remove(3)\n",
    "print(\"Updated list:\", numbers)"
   ]
  },
  {
   "cell_type": "code",
   "execution_count": 9,
   "id": "860c28db",
   "metadata": {},
   "outputs": [
    {
     "name": "stdout",
     "output_type": "stream",
     "text": [
      "The second element is: b\n"
     ]
    }
   ],
   "source": [
    "# 9. Write a code to access the second element in the list ['a', 'b', 'c', 'd'].\n",
    "letters = ['a', 'b', 'c', 'd']\n",
    "second_element = letters[1]\n",
    "print(\"The second element is:\", second_element)"
   ]
  },
  {
   "cell_type": "code",
   "execution_count": 10,
   "id": "04cc6bf6",
   "metadata": {},
   "outputs": [
    {
     "name": "stdout",
     "output_type": "stream",
     "text": [
      "Reversed list: [50, 40, 30, 20, 10]\n"
     ]
    }
   ],
   "source": [
    "# 10. Write a code to reverse the list [10, 20, 30, 40, 50].\n",
    "numbers = [10, 20, 30, 40, 50]\n",
    "numbers.reverse()\n",
    "print(\"Reversed list:\", numbers)"
   ]
  },
  {
   "cell_type": "code",
   "execution_count": 11,
   "id": "13d0f833",
   "metadata": {},
   "outputs": [
    {
     "name": "stdout",
     "output_type": "stream",
     "text": [
      "The tuple is: (100, 200, 300)\n"
     ]
    }
   ],
   "source": [
    "# 11. Write a code to create a tuple with the elements 100, 200, 300 and print it.\n",
    "numbers_tuple = (100, 200, 300)\n",
    "print(\"The tuple is:\", numbers_tuple)"
   ]
  },
  {
   "cell_type": "code",
   "execution_count": 12,
   "id": "f1a1c3b9",
   "metadata": {},
   "outputs": [
    {
     "name": "stdout",
     "output_type": "stream",
     "text": [
      "The second-to-last element is: blue\n"
     ]
    }
   ],
   "source": [
    "# 12. Write a code to access the second-to-last element of the tuple ('red', 'green', 'blue', 'yellow').\n",
    "colors = ('red', 'green', 'blue', 'yellow')\n",
    "second_last = colors[-2]\n",
    "print(\"The second-to-last element is:\", second_last)"
   ]
  },
  {
   "cell_type": "code",
   "execution_count": 13,
   "id": "2e984f7b",
   "metadata": {},
   "outputs": [
    {
     "name": "stdout",
     "output_type": "stream",
     "text": [
      "The minimum number in the tuple is: 5\n"
     ]
    }
   ],
   "source": [
    "# 13.  Write a code to find the minimum number in the tuple (10, 20, 5, 15).\n",
    "numbers = (10, 20, 5, 15)\n",
    "min_number = min(numbers)\n",
    "print(\"The minimum number in the tuple is:\", min_number)"
   ]
  },
  {
   "cell_type": "code",
   "execution_count": 14,
   "id": "718bbc14",
   "metadata": {},
   "outputs": [
    {
     "name": "stdout",
     "output_type": "stream",
     "text": [
      "The index of 'cat' is: 1\n"
     ]
    }
   ],
   "source": [
    "# 14. Write a code to find the index of the element \"cat\" in the tuple ('dog', 'cat', 'rabbit').\n",
    "animals = ('dog', 'cat', 'rabbit')\n",
    "index_of_cat = animals.index('cat')\n",
    "print(\"The index of 'cat' is:\", index_of_cat)"
   ]
  },
  {
   "cell_type": "code",
   "execution_count": 15,
   "id": "b4a81dab",
   "metadata": {},
   "outputs": [
    {
     "name": "stdout",
     "output_type": "stream",
     "text": [
      "Is 'kiwi' in the tuple? False\n"
     ]
    }
   ],
   "source": [
    "# 15. Write a code to create a tuple containing three different fruits and check if \"kiwi\" is in it.\n",
    "fruits = ('apple', 'banana', 'mango')\n",
    "is_kiwi_present = \"kiwi\" in fruits\n",
    "print(\"Is 'kiwi' in the tuple?\", is_kiwi_present)"
   ]
  },
  {
   "cell_type": "code",
   "execution_count": 16,
   "id": "32d4249b",
   "metadata": {},
   "outputs": [
    {
     "name": "stdout",
     "output_type": "stream",
     "text": [
      "The set is: {'b', 'c', 'a'}\n"
     ]
    }
   ],
   "source": [
    "# 16. Write a code to create a set with the elements 'a', 'b', 'c' and print it.\n",
    "letters_set = {'a', 'b', 'c'}\n",
    "print(\"The set is:\", letters_set)"
   ]
  },
  {
   "cell_type": "code",
   "execution_count": 17,
   "id": "6ec14e6e",
   "metadata": {},
   "outputs": [
    {
     "name": "stdout",
     "output_type": "stream",
     "text": [
      "The set after clearing: set()\n"
     ]
    }
   ],
   "source": [
    "# 17. Write a code to clear all elements from the set {1, 2, 3, 4, 5}.\n",
    "numbers_set = {1, 2, 3, 4, 5}\n",
    "numbers_set.clear()\n",
    "print(\"The set after clearing:\", numbers_set)"
   ]
  },
  {
   "cell_type": "code",
   "execution_count": 18,
   "id": "d5948df4",
   "metadata": {},
   "outputs": [
    {
     "name": "stdout",
     "output_type": "stream",
     "text": [
      "Updated set: {1, 2, 3}\n"
     ]
    }
   ],
   "source": [
    "# 18. Write a code to remove the element 4 from the set {1, 2, 3, 4}.\n",
    "numbers_set = {1, 2, 3, 4}\n",
    "numbers_set.remove(4)\n",
    "print(\"Updated set:\", numbers_set)"
   ]
  },
  {
   "cell_type": "code",
   "execution_count": 19,
   "id": "77ee628b",
   "metadata": {},
   "outputs": [
    {
     "name": "stdout",
     "output_type": "stream",
     "text": [
      "Union of the sets: {1, 2, 3, 4, 5}\n"
     ]
    }
   ],
   "source": [
    "# 19. Write a code to find the union of two sets {1, 2, 3} and {3, 4, 5}.\n",
    "set1 = {1, 2, 3}\n",
    "set2 = {3, 4, 5}\n",
    "union_set = set1.union(set2)\n",
    "print(\"Union of the sets:\", union_set)"
   ]
  },
  {
   "cell_type": "code",
   "execution_count": 20,
   "id": "37746bcb",
   "metadata": {},
   "outputs": [
    {
     "name": "stdout",
     "output_type": "stream",
     "text": [
      "Intersection of the sets: {2, 3}\n"
     ]
    }
   ],
   "source": [
    "# 20. Write a code to find the intersection of two sets {1, 2, 3} and {2, 3, 4}.\n",
    "set1 = {1, 2, 3}\n",
    "set2 = {2, 3, 4}\n",
    "intersection_set = set1.intersection(set2)\n",
    "print(\"Intersection of the sets:\", intersection_set)"
   ]
  },
  {
   "cell_type": "code",
   "execution_count": 21,
   "id": "1a4da865",
   "metadata": {},
   "outputs": [
    {
     "name": "stdout",
     "output_type": "stream",
     "text": [
      "The dictionary is: {'name': 'Rohit', 'age': 24, 'city': 'Agartala'}\n"
     ]
    }
   ],
   "source": [
    "# 21. Write a code to create a dictionary with the keys \"name\", \"age\", and \"city\", and print it.\n",
    "person = {\n",
    "    \"name\": \"Rohit\",\n",
    "    \"age\": 24,\n",
    "    \"city\": \"Agartala\"\n",
    "}\n",
    "print(\"The dictionary is:\", person)"
   ]
  },
  {
   "cell_type": "code",
   "execution_count": 22,
   "id": "e849ad17",
   "metadata": {},
   "outputs": [
    {
     "name": "stdout",
     "output_type": "stream",
     "text": [
      "Updated dictionary: {'name': 'John', 'age': 25, 'country': 'USA'}\n"
     ]
    }
   ],
   "source": [
    "# 22. Write a code to add a new key-value pair \"country\": \"USA\" to the dictionary {'name': 'John', 'age': 25}.\n",
    "person = {'name': 'John', 'age': 25}\n",
    "person['country'] = 'USA'\n",
    "print(\"Updated dictionary:\", person)"
   ]
  },
  {
   "cell_type": "code",
   "execution_count": 23,
   "id": "83b3ac31",
   "metadata": {},
   "outputs": [
    {
     "name": "stdout",
     "output_type": "stream",
     "text": [
      "The value associated with 'name' is: Alice\n"
     ]
    }
   ],
   "source": [
    "# 23. Write a code to access the value associated with the key \"name\" in the dictionary {'name': 'Alice', 'age': 30}.\n",
    "person = {'name': 'Alice', 'age': 30}\n",
    "name_value = person['name']\n",
    "print(\"The value associated with 'name' is:\", name_value)"
   ]
  },
  {
   "cell_type": "code",
   "execution_count": 24,
   "id": "183a7c73",
   "metadata": {},
   "outputs": [
    {
     "name": "stdout",
     "output_type": "stream",
     "text": [
      "Updated dictionary: {'name': 'Bob', 'city': 'New York'}\n"
     ]
    }
   ],
   "source": [
    "# 24. Write a code to remove the key \"age\" from the dictionary {'name': 'Bob', 'age': 22, 'city': 'New York'}.\n",
    "person = {'name': 'Bob', 'age': 22, 'city': 'New York'}\n",
    "person.pop('age')\n",
    "print(\"Updated dictionary:\", person)"
   ]
  },
  {
   "cell_type": "code",
   "execution_count": 25,
   "id": "8ba7d7dd",
   "metadata": {},
   "outputs": [
    {
     "name": "stdout",
     "output_type": "stream",
     "text": [
      "Does the key 'city' exist? True\n"
     ]
    }
   ],
   "source": [
    "# 25. Write a code to check if the key \"city\" exists in the dictionary {'name': 'Alice', 'city': 'Paris'}.\n",
    "person = {'name': 'Alice', 'city': 'Paris'}\n",
    "key_exists = \"city\" in person\n",
    "print(\"Does the key 'city' exist?\", key_exists)"
   ]
  },
  {
   "cell_type": "code",
   "execution_count": 26,
   "id": "d48baf4f",
   "metadata": {},
   "outputs": [
    {
     "name": "stdout",
     "output_type": "stream",
     "text": [
      "List: [1, 2, 3, 4, 5]\n",
      "Tuple: (10, 20, 30)\n",
      "Dictionary: {'name': 'John', 'age': 25, 'city': 'Paris'}\n"
     ]
    }
   ],
   "source": [
    "# 26. Write a code to create a list, a tuple, and a dictionary, and print them all.\n",
    "my_list = [1, 2, 3, 4, 5]\n",
    "my_tuple = (10, 20, 30)\n",
    "my_dict = {\"name\": \"John\", \"age\": 25, \"city\": \"Paris\"}\n",
    "print(\"List:\", my_list)\n",
    "print(\"Tuple:\", my_tuple)\n",
    "print(\"Dictionary:\", my_dict)"
   ]
  },
  {
   "cell_type": "code",
   "execution_count": 27,
   "id": "a72c7f36",
   "metadata": {},
   "outputs": [
    {
     "name": "stdout",
     "output_type": "stream",
     "text": [
      "Sorted random numbers: [6, 12, 49, 73, 90]\n"
     ]
    }
   ],
   "source": [
    "# 27.Write a code to create a list of 5 random numbers between 1and 100,sort it in ascending order, print theresult.(replaced)\n",
    "import random\n",
    "random_numbers = [random.randint(1, 100) for _ in range(5)]\n",
    "random_numbers.sort()\n",
    "print(\"Sorted random numbers:\", random_numbers)"
   ]
  },
  {
   "cell_type": "code",
   "execution_count": 29,
   "id": "6eab1656",
   "metadata": {},
   "outputs": [
    {
     "name": "stdout",
     "output_type": "stream",
     "text": [
      "The element at third index is: cherry\n"
     ]
    }
   ],
   "source": [
    "# 28. Write a code to create a list with strings and print the element at the third index.\n",
    "fruits = [\"apple\", \"banana\", \"cherry\", \"date\", \"mango\"]\n",
    "element_at_third_index = fruits[2]\n",
    "print(\"The element at third index is:\", element_at_third_index)"
   ]
  },
  {
   "cell_type": "code",
   "execution_count": 30,
   "id": "8134b460",
   "metadata": {},
   "outputs": [
    {
     "name": "stdout",
     "output_type": "stream",
     "text": [
      "Combined dictionary: {'name': 'Alice', 'age': 25, 'city': 'Paris', 'country': 'France'}\n"
     ]
    }
   ],
   "source": [
    "# 29. Write a code to combine two dictionaries into one and print the result.\n",
    "dict1 = {\"name\": \"Alice\", \"age\": 25}\n",
    "dict2 = {\"city\": \"Paris\", \"country\": \"France\"}\n",
    "combined_dict = {**dict1, **dict2}\n",
    "print(\"Combined dictionary:\", combined_dict)"
   ]
  },
  {
   "cell_type": "code",
   "execution_count": 31,
   "id": "06c971c6",
   "metadata": {},
   "outputs": [
    {
     "name": "stdout",
     "output_type": "stream",
     "text": [
      "Set of fruits: {'apple', 'banana', 'cherry'}\n"
     ]
    }
   ],
   "source": [
    "# 30. Write a code to convert a list of strings into a set.\n",
    "fruits_list = [\"apple\", \"banana\", \"cherry\", \"apple\", \"banana\"]\n",
    "fruits_set = set(fruits_list)\n",
    "print(\"Set of fruits:\", fruits_set)"
   ]
  }
 ],
 "metadata": {
  "kernelspec": {
   "display_name": "Python 3 (ipykernel)",
   "language": "python",
   "name": "python3"
  },
  "language_info": {
   "codemirror_mode": {
    "name": "ipython",
    "version": 3
   },
   "file_extension": ".py",
   "mimetype": "text/x-python",
   "name": "python",
   "nbconvert_exporter": "python",
   "pygments_lexer": "ipython3",
   "version": "3.9.12"
  }
 },
 "nbformat": 4,
 "nbformat_minor": 5
}
